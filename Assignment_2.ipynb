{
  "nbformat": 4,
  "nbformat_minor": 0,
  "metadata": {
    "colab": {
      "provenance": []
    },
    "kernelspec": {
      "name": "python3",
      "display_name": "Python 3"
    },
    "language_info": {
      "name": "python"
    }
  },
  "cells": [
    {
      "cell_type": "code",
      "execution_count": 1,
      "metadata": {
        "colab": {
          "base_uri": "https://localhost:8080/"
        },
        "id": "puIgE_ut-Iun",
        "outputId": "9f7c64e4-23ce-47b6-fa84-e709c6c9f8e9"
      },
      "outputs": [
        {
          "output_type": "stream",
          "name": "stdout",
          "text": [
            "Unnamed: 0              0\n",
            "Name                    0\n",
            "Location                0\n",
            "Year                    0\n",
            "Kilometers_Driven       0\n",
            "Fuel_Type               0\n",
            "Transmission            0\n",
            "Owner_Type              0\n",
            "Mileage                 2\n",
            "Engine                 36\n",
            "Power                  36\n",
            "Seats                  38\n",
            "New_Price            5032\n",
            "Price                   0\n",
            "dtype: int64\n"
          ]
        }
      ],
      "source": [
        "import pandas as pd\n",
        "import numpy as np\n",
        "\n",
        "# Load the dataset\n",
        "df = pd.read_csv('train.csv')  # Replace with your actual file path\n",
        "\n",
        "# Display the count of missing values per column\n",
        "print(df.isnull().sum())\n"
      ]
    },
    {
      "cell_type": "markdown",
      "source": [
        "##a)  Look for the missing values in all the columns and either impute them (replace with mean, median, or mode) or drop them. Justify your action for this task.     "
      ],
      "metadata": {
        "id": "UQHPpLyQEB7T"
      }
    },
    {
      "cell_type": "code",
      "source": [
        "# Drop columns with more than 50% missing values\n",
        "threshold = len(df) * 0.5\n",
        "df.dropna(thresh=threshold, axis=1, inplace=True)"
      ],
      "metadata": {
        "id": "mfZF9Wrf_Qes"
      },
      "execution_count": 2,
      "outputs": []
    },
    {
      "cell_type": "code",
      "source": [
        "# Confirm all missing values have been addressed\n",
        "print(df.isnull().sum())"
      ],
      "metadata": {
        "colab": {
          "base_uri": "https://localhost:8080/"
        },
        "id": "r1ocKzk__TPB",
        "outputId": "6b394e5d-b52a-472d-8758-d26ba68055a0"
      },
      "execution_count": 3,
      "outputs": [
        {
          "output_type": "stream",
          "name": "stdout",
          "text": [
            "Unnamed: 0            0\n",
            "Name                  0\n",
            "Location              0\n",
            "Year                  0\n",
            "Kilometers_Driven     0\n",
            "Fuel_Type             0\n",
            "Transmission          0\n",
            "Owner_Type            0\n",
            "Mileage               2\n",
            "Engine               36\n",
            "Power                36\n",
            "Seats                38\n",
            "Price                 0\n",
            "dtype: int64\n"
          ]
        }
      ]
    },
    {
      "cell_type": "code",
      "source": [
        "print(df.columns.tolist())\n"
      ],
      "metadata": {
        "colab": {
          "base_uri": "https://localhost:8080/"
        },
        "id": "jSZA6i99Bdvb",
        "outputId": "05f8819d-f6b2-4773-d5b6-d2cb57ca5141"
      },
      "execution_count": 4,
      "outputs": [
        {
          "output_type": "stream",
          "name": "stdout",
          "text": [
            "['Unnamed: 0', 'Name', 'Location', 'Year', 'Kilometers_Driven', 'Fuel_Type', 'Transmission', 'Owner_Type', 'Mileage', 'Engine', 'Power', 'Seats', 'Price']\n"
          ]
        }
      ]
    },
    {
      "cell_type": "markdown",
      "source": [
        "##b) Remove the units from some of the attributes and only keep the numerical values (for example remove kmpl from “Mileage”, CC from “Engine”, bhp from “Power”, and lakh from “New_price”)."
      ],
      "metadata": {
        "id": "b4pPWfikEK7j"
      }
    },
    {
      "cell_type": "code",
      "source": [
        "# Function to extract numeric values from a string\n",
        "def extract_numeric(value):\n",
        "    try:\n",
        "        return float(str(value).split()[0])\n",
        "    except:\n",
        "        return np.nan\n",
        "\n",
        "# Clean up Mileage\n",
        "if 'Mileage' in df.columns:\n",
        "    df['Mileage'] = df['Mileage'].apply(extract_numeric)\n",
        "\n",
        "# Clean up Engine\n",
        "if 'Engine' in df.columns:\n",
        "    df['Engine'] = df['Engine'].apply(extract_numeric)\n",
        "\n",
        "# Clean up Power\n",
        "if 'Power' in df.columns:\n",
        "    df['Power'] = df['Power'].apply(extract_numeric)"
      ],
      "metadata": {
        "id": "SNj3OEfBAib5"
      },
      "execution_count": 5,
      "outputs": []
    },
    {
      "cell_type": "code",
      "source": [
        "print(df[['Mileage', 'Engine', 'Power']].head())\n",
        "print(df[['Mileage', 'Engine', 'Power']].dtypes)"
      ],
      "metadata": {
        "colab": {
          "base_uri": "https://localhost:8080/"
        },
        "id": "v3n7Oy0ZAmQ6",
        "outputId": "c5191db1-9e69-4208-b7ce-a283593a05f4"
      },
      "execution_count": 6,
      "outputs": [
        {
          "output_type": "stream",
          "name": "stdout",
          "text": [
            "   Mileage  Engine   Power\n",
            "0    19.67  1582.0  126.20\n",
            "1    13.00  1199.0   88.70\n",
            "2    20.77  1248.0   88.76\n",
            "3    15.20  1968.0  140.80\n",
            "4    23.08  1461.0   63.10\n",
            "Mileage    float64\n",
            "Engine     float64\n",
            "Power      float64\n",
            "dtype: object\n"
          ]
        }
      ]
    },
    {
      "cell_type": "markdown",
      "source": [
        "##C) Change the categorical variables (“Fuel_Type” and “Transmission”) into numerical one hot encoded value.  "
      ],
      "metadata": {
        "id": "uXMZ4_A9EQS9"
      }
    },
    {
      "cell_type": "code",
      "source": [
        "# Check the current categories\n",
        "print(df['Fuel_Type'].unique())\n",
        "print(df['Transmission'].unique())\n",
        "\n",
        "# One-hot encode the categorical columns\n",
        "df = pd.get_dummies(df, columns=['Fuel_Type', 'Transmission'], drop_first=True)\n",
        "\n",
        "# View the result\n",
        "print(df.head())"
      ],
      "metadata": {
        "colab": {
          "base_uri": "https://localhost:8080/"
        },
        "id": "QbFeybxkCcag",
        "outputId": "9a3d20a4-cb16-4880-d11d-e3ef092788c8"
      },
      "execution_count": 7,
      "outputs": [
        {
          "output_type": "stream",
          "name": "stdout",
          "text": [
            "['Diesel' 'Petrol' 'Electric']\n",
            "['Manual' 'Automatic']\n",
            "   Unnamed: 0                              Name    Location  Year  \\\n",
            "0           1  Hyundai Creta 1.6 CRDi SX Option        Pune  2015   \n",
            "1           2                      Honda Jazz V     Chennai  2011   \n",
            "2           3                 Maruti Ertiga VDI     Chennai  2012   \n",
            "3           4   Audi A4 New 2.0 TDI Multitronic  Coimbatore  2013   \n",
            "4           6            Nissan Micra Diesel XV      Jaipur  2013   \n",
            "\n",
            "   Kilometers_Driven Owner_Type  Mileage  Engine   Power  Seats  Price  \\\n",
            "0              41000      First    19.67  1582.0  126.20    5.0  12.50   \n",
            "1              46000      First    13.00  1199.0   88.70    5.0   4.50   \n",
            "2              87000      First    20.77  1248.0   88.76    7.0   6.00   \n",
            "3              40670     Second    15.20  1968.0  140.80    5.0  17.74   \n",
            "4              86999      First    23.08  1461.0   63.10    5.0   3.50   \n",
            "\n",
            "   Fuel_Type_Electric  Fuel_Type_Petrol  Transmission_Manual  \n",
            "0               False             False                 True  \n",
            "1               False              True                 True  \n",
            "2               False             False                 True  \n",
            "3               False             False                False  \n",
            "4               False             False                 True  \n"
          ]
        }
      ]
    },
    {
      "cell_type": "markdown",
      "source": [
        "##d) Create one more feature and add this column to the dataset (you can use mutate function in R for this). For example, you can calculate the current age of the car by subtracting “Year” value from the current year.   "
      ],
      "metadata": {
        "id": "AT7nf9saEVBf"
      }
    },
    {
      "cell_type": "code",
      "source": [
        "# Add new feature: Car Age\n",
        "df['Car_Age'] = 2025 - df['Year']\n",
        "\n",
        "# Preview the updated dataset\n",
        "print(df[['Year', 'Car_Age']].head())"
      ],
      "metadata": {
        "colab": {
          "base_uri": "https://localhost:8080/"
        },
        "id": "VK0LX9_kDQiQ",
        "outputId": "62310630-8411-4c99-ebb2-d0dc898853df"
      },
      "execution_count": 8,
      "outputs": [
        {
          "output_type": "stream",
          "name": "stdout",
          "text": [
            "   Year  Car_Age\n",
            "0  2015       10\n",
            "1  2011       14\n",
            "2  2012       13\n",
            "3  2013       12\n",
            "4  2013       12\n"
          ]
        }
      ]
    },
    {
      "cell_type": "markdown",
      "source": [
        "##e) Perform select, filter, rename, mutate, arrange and summarize with group by operations (or their equivalent operations in python) on this dataset. (4 points)  "
      ],
      "metadata": {
        "id": "xAl_bXl0EYg4"
      }
    },
    {
      "cell_type": "markdown",
      "source": [
        "###Select\n"
      ],
      "metadata": {
        "id": "w7evqQU5Em9T"
      }
    },
    {
      "cell_type": "code",
      "source": [
        "# Select only specific columns\n",
        "selected_df = df[['Name', 'Location', 'Year', 'Car_Age', 'Fuel_Type_Petrol', 'Price']]\n",
        "print(selected_df.head())"
      ],
      "metadata": {
        "colab": {
          "base_uri": "https://localhost:8080/"
        },
        "id": "_SXT7zK-DiqT",
        "outputId": "657c480d-bb4a-4f9c-9bfd-27d3c98bd4cc"
      },
      "execution_count": 9,
      "outputs": [
        {
          "output_type": "stream",
          "name": "stdout",
          "text": [
            "                               Name    Location  Year  Car_Age  \\\n",
            "0  Hyundai Creta 1.6 CRDi SX Option        Pune  2015       10   \n",
            "1                      Honda Jazz V     Chennai  2011       14   \n",
            "2                 Maruti Ertiga VDI     Chennai  2012       13   \n",
            "3   Audi A4 New 2.0 TDI Multitronic  Coimbatore  2013       12   \n",
            "4            Nissan Micra Diesel XV      Jaipur  2013       12   \n",
            "\n",
            "   Fuel_Type_Petrol  Price  \n",
            "0             False  12.50  \n",
            "1              True   4.50  \n",
            "2             False   6.00  \n",
            "3             False  17.74  \n",
            "4             False   3.50  \n"
          ]
        }
      ]
    },
    {
      "cell_type": "markdown",
      "source": [
        "###Filter\n"
      ],
      "metadata": {
        "id": "_K8FhWqZEo4I"
      }
    },
    {
      "cell_type": "code",
      "source": [
        "# Filter rows: Show only cars with age < 5 and price > 5 lakh\n",
        "filtered_df = df[(df['Car_Age'] < 5) & (df['Price'] > 5)]\n",
        "print(filtered_df.head())"
      ],
      "metadata": {
        "colab": {
          "base_uri": "https://localhost:8080/"
        },
        "id": "umR4PfiaDk5-",
        "outputId": "cad24cf5-3fae-4954-e513-7eab1f841d08"
      },
      "execution_count": 10,
      "outputs": [
        {
          "output_type": "stream",
          "name": "stdout",
          "text": [
            "Empty DataFrame\n",
            "Columns: [Unnamed: 0, Name, Location, Year, Kilometers_Driven, Owner_Type, Mileage, Engine, Power, Seats, Price, Fuel_Type_Electric, Fuel_Type_Petrol, Transmission_Manual, Car_Age]\n",
            "Index: []\n"
          ]
        }
      ]
    },
    {
      "cell_type": "markdown",
      "source": [
        "###Rename"
      ],
      "metadata": {
        "id": "4aj7yHeEErOC"
      }
    },
    {
      "cell_type": "code",
      "source": [
        "# Rename 'Price' to 'Selling_Price'\n",
        "df = df.rename(columns={'Price': 'Selling_Price'})"
      ],
      "metadata": {
        "id": "Ht1P9TW1DmgW"
      },
      "execution_count": 11,
      "outputs": []
    },
    {
      "cell_type": "markdown",
      "source": [
        "###Mutate"
      ],
      "metadata": {
        "id": "7OBdoTCDEtT0"
      }
    },
    {
      "cell_type": "code",
      "source": [
        "# Add a new column: price per year of age\n",
        "df['Price_per_Year'] = df['Selling_Price'] / df['Car_Age'].replace(0, 1)  # Avoid division by zero"
      ],
      "metadata": {
        "id": "8XXZo6gVDo7n"
      },
      "execution_count": 12,
      "outputs": []
    },
    {
      "cell_type": "markdown",
      "source": [
        "###Arrange"
      ],
      "metadata": {
        "id": "duxMGh1tEw9M"
      }
    },
    {
      "cell_type": "code",
      "source": [
        "# Sort by Selling Price descending\n",
        "arranged_df = df.sort_values(by='Selling_Price', ascending=False)\n",
        "print(arranged_df[['Name', 'Selling_Price']].head())"
      ],
      "metadata": {
        "colab": {
          "base_uri": "https://localhost:8080/"
        },
        "id": "hFB4EELMDsTW",
        "outputId": "68e99564-9eb3-41b2-f514-3a49d1cd5cbf"
      },
      "execution_count": 13,
      "outputs": [
        {
          "output_type": "stream",
          "name": "stdout",
          "text": [
            "                                             Name  Selling_Price\n",
            "3952  Land Rover Range Rover 3.0 Diesel LWB Vogue         160.00\n",
            "5620                   Lamborghini Gallardo Coupe         120.00\n",
            "5752                       Jaguar F Type 5.0 V8 S         100.00\n",
            "1457              Land Rover Range Rover Sport SE          97.07\n",
            "1917                           BMW 7 Series 740Li          93.67\n"
          ]
        }
      ]
    },
    {
      "cell_type": "markdown",
      "source": [
        "###summarize with group by"
      ],
      "metadata": {
        "id": "auCcz2-9GfPX"
      }
    },
    {
      "cell_type": "code",
      "source": [
        "# Group by Fuel Type and calculate average price and count\n",
        "summary_df = df.groupby('Fuel_Type_Petrol').agg({\n",
        "    'Selling_Price': ['mean', 'max', 'count'],\n",
        "    'Car_Age': 'mean'\n",
        "}).reset_index()\n",
        "\n",
        "# Flatten MultiIndex column names\n",
        "summary_df.columns = ['Fuel_Type_Petrol', 'Avg_Price', 'Max_Price', 'Count', 'Avg_Age']\n",
        "\n",
        "print(summary_df)"
      ],
      "metadata": {
        "colab": {
          "base_uri": "https://localhost:8080/"
        },
        "id": "RvJocHu0DueB",
        "outputId": "616ee8c2-8e57-4f2a-95e7-34f209311b9c"
      },
      "execution_count": 14,
      "outputs": [
        {
          "output_type": "stream",
          "name": "stdout",
          "text": [
            "   Fuel_Type_Petrol  Avg_Price  Max_Price  Count    Avg_Age\n",
            "0             False  12.960632      160.0   3163  11.209295\n",
            "1              True   5.756688      120.0   2684  11.954918\n"
          ]
        }
      ]
    }
  ]
}